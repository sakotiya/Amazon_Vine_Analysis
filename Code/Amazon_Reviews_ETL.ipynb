{
  "cells": [
    {
      "cell_type": "code",
      "execution_count": 1,
      "metadata": {
        "colab": {
          "base_uri": "https://localhost:8080/"
        },
        "id": "V58rxea0HqSa",
        "outputId": "15c11206-9f55-4dee-df3d-ac8208a7b5f7"
      },
      "outputs": [
        {
          "output_type": "stream",
          "name": "stdout",
          "text": [
            "\r0% [Working]\r            \rIgn:1 https://developer.download.nvidia.com/compute/machine-learning/repos/ubuntu1804/x86_64  InRelease\n",
            "\r0% [Connecting to archive.ubuntu.com] [Connecting to security.ubuntu.com] [Conn\r                                                                               \rHit:2 https://developer.download.nvidia.com/compute/cuda/repos/ubuntu1804/x86_64  InRelease\n",
            "Hit:3 https://developer.download.nvidia.com/compute/machine-learning/repos/ubuntu1804/x86_64  Release\n",
            "Hit:4 http://archive.ubuntu.com/ubuntu bionic InRelease\n",
            "Hit:5 http://security.ubuntu.com/ubuntu bionic-security InRelease\n",
            "Hit:6 http://archive.ubuntu.com/ubuntu bionic-updates InRelease\n",
            "Hit:7 http://archive.ubuntu.com/ubuntu bionic-backports InRelease\n",
            "Hit:8 https://cloud.r-project.org/bin/linux/ubuntu bionic-cran40/ InRelease\n",
            "Hit:10 http://ppa.launchpad.net/c2d4u.team/c2d4u4.0+/ubuntu bionic InRelease\n",
            "Hit:11 http://ppa.launchpad.net/cran/libgit2/ubuntu bionic InRelease\n",
            "Hit:12 http://ppa.launchpad.net/deadsnakes/ppa/ubuntu bionic InRelease\n",
            "Hit:13 http://ppa.launchpad.net/graphics-drivers/ppa/ubuntu bionic InRelease\n",
            "Reading package lists... Done\n"
          ]
        }
      ],
      "source": [
        "import os\n",
        "# Find the latest version of spark 3.2 from http://www.apache.org/dist/spark/ and enter as the spark version\n",
        "# For example:\n",
        "# spark_version = 'spark-3.2.3'\n",
        "spark_version = 'spark-3.2.3'\n",
        "os.environ['SPARK_VERSION']=spark_version\n",
        "\n",
        "# Install Spark and Java\n",
        "!apt-get update\n",
        "!apt-get install openjdk-11-jdk-headless -qq > /dev/null\n",
        "!wget -q http://www.apache.org/dist/spark/$SPARK_VERSION/$SPARK_VERSION-bin-hadoop2.7.tgz\n",
        "!tar xf $SPARK_VERSION-bin-hadoop2.7.tgz\n",
        "!pip install -q findspark\n",
        "\n",
        "# Set Environment Variables\n",
        "import os\n",
        "os.environ[\"JAVA_HOME\"] = \"/usr/lib/jvm/java-11-openjdk-amd64\"\n",
        "os.environ[\"SPARK_HOME\"] = f\"/content/{spark_version}-bin-hadoop2.7\"\n",
        "\n",
        "# Start a SparkSession\n",
        "import findspark\n",
        "findspark.init()"
      ]
    },
    {
      "cell_type": "code",
      "execution_count": 2,
      "metadata": {
        "colab": {
          "base_uri": "https://localhost:8080/"
        },
        "id": "_xKwTpATHqSe",
        "outputId": "7e08a7b0-118f-4371-9055-6a5d62d37208"
      },
      "outputs": [
        {
          "output_type": "stream",
          "name": "stdout",
          "text": [
            "--2022-12-21 03:29:15--  https://jdbc.postgresql.org/download/postgresql-42.2.16.jar\n",
            "Resolving jdbc.postgresql.org (jdbc.postgresql.org)... 72.32.157.228, 2001:4800:3e1:1::228\n",
            "Connecting to jdbc.postgresql.org (jdbc.postgresql.org)|72.32.157.228|:443... connected.\n",
            "HTTP request sent, awaiting response... 200 OK\n",
            "Length: 1002883 (979K) [application/java-archive]\n",
            "Saving to: ‘postgresql-42.2.16.jar.3’\n",
            "\n",
            "postgresql-42.2.16. 100%[===================>] 979.38K  5.88MB/s    in 0.2s    \n",
            "\n",
            "2022-12-21 03:29:15 (5.88 MB/s) - ‘postgresql-42.2.16.jar.3’ saved [1002883/1002883]\n",
            "\n"
          ]
        }
      ],
      "source": [
        "# Download the Postgres driver that will allow Spark to interact with Postgres.\n",
        "!wget https://jdbc.postgresql.org/download/postgresql-42.2.16.jar"
      ]
    },
    {
      "cell_type": "code",
      "execution_count": 3,
      "metadata": {
        "id": "MMqDAjVS0KN9"
      },
      "outputs": [],
      "source": [
        "from pyspark.sql import SparkSession\n",
        "spark = SparkSession.builder.appName(\"M17-Amazon-Challenge\").config(\"spark.driver.extraClassPath\",\"/content/postgresql-42.2.16.jar\").getOrCreate()"
      ]
    },
    {
      "cell_type": "markdown",
      "metadata": {
        "id": "cyBsySGuY-9V"
      },
      "source": [
        "### Load Amazon Data into Spark DataFrame"
      ]
    },
    {
      "cell_type": "code",
      "execution_count": 4,
      "metadata": {
        "id": "CtCmBhQJY-9Z"
      },
      "outputs": [],
      "source": [
        "from pyspark import SparkFiles\n",
        "url = \"https://s3.amazonaws.com/amazon-reviews-pds/tsv/amazon_reviews_us_Shoes_v1_00.tsv.gz\"\n",
        "spark.sparkContext.addFile(url)\n",
        "df = spark.read.option(\"encoding\", \"UTF-8\").csv(SparkFiles.get(\"amazon_reviews_us_Shoes_v1_00.tsv.gz\"), sep=\"\\t\", header=True, inferSchema=True)\n"
      ]
    },
    {
      "cell_type": "markdown",
      "metadata": {
        "id": "2yUSe55VY-9t"
      },
      "source": [
        "### Create DataFrames to match tables"
      ]
    },
    {
      "cell_type": "code",
      "execution_count": 5,
      "metadata": {
        "id": "C8REmY1aY-9u",
        "colab": {
          "base_uri": "https://localhost:8080/"
        },
        "outputId": "dc071400-0aa6-4efd-bc8d-68bbe37f19b4"
      },
      "outputs": [
        {
          "output_type": "stream",
          "name": "stdout",
          "text": [
            "+-----------+-----------+--------------+----------+--------------+--------------------+----------------+-----------+-------------+-----------+----+-----------------+--------------------+--------------------+-----------+\n",
            "|marketplace|customer_id|     review_id|product_id|product_parent|       product_title|product_category|star_rating|helpful_votes|total_votes|vine|verified_purchase|     review_headline|         review_body|review_date|\n",
            "+-----------+-----------+--------------+----------+--------------+--------------------+----------------+-----------+-------------+-----------+----+-----------------+--------------------+--------------------+-----------+\n",
            "|         US|   18069663|R3P2HIOQCIN5ZU|B000XB31C0|     265024781|Minnetonka Men's ...|           Shoes|          1|            0|          0|   N|                Y|                   .|Do not buy: reall...| 2015-08-31|\n",
            "|         US|   16251825|R12VVR0WH5Q24V|B00CFYZH5W|     259035853|Teva Men's Pajaro...|           Shoes|          5|            0|          0|   N|                Y|     super flip flop|provides great cu...| 2015-08-31|\n",
            "|         US|   20381037| RNCCKB6TV5EEF|B00S8JNN3Q|     666066660|Anne Klein Perfec...|           Shoes|          4|            0|          0|   N|                Y| Great clutch purse!|It's perfect if y...| 2015-08-31|\n",
            "|         US|     108364|R2NZXYIVCGB13W|B00XFBPOQG|     448483263|adidas Men's 10K ...|           Shoes|          5|            0|          6|   N|                Y|              Badass|  Getting what u see| 2015-08-31|\n",
            "|         US|   45449350|R2EQ1TG9IT3OEQ|B00SW64Y9W|       7853171|OverBling Sneaker...|           Shoes|          3|            0|          0|   N|                Y|         Three Stars|               small| 2015-08-31|\n",
            "|         US|   19324665|R1WXA9JSC2H1U1|B011F9E6LI|      14311457|MESSI 15.3 FG/AG ...|           Shoes|          5|            1|          1|   N|                Y|          Five Stars|My 13 year old so...| 2015-08-31|\n",
            "|         US|   50073594|R12ENYLFGGNWRV|B00HAUP1OI|     264821602|Hoka One One Men'...|           Shoes|          5|            1|          1|   N|                Y|Finally, some cus...|Ok, I have been s...| 2015-08-31|\n",
            "|         US|   21706057|R2R07E5PNXEUO5|B00L1RKOKW|     767118055|Olukai Nohea Mesh...|           Shoes|          4|            0|          0|   N|                Y|good deal, but ha...|I went a full siz...| 2015-08-31|\n",
            "|         US|   13708216|R27BA52AKWMWN3|B005WA9MSE|     813856438|Carolina Mens 6\" ...|           Shoes|          5|            0|          0|   N|                Y|... would have to...|I would have to s...| 2015-08-31|\n",
            "|         US|   40542649| RLF8DOID2KD5O|B00BEYQI5C|     661491213|Alegria Women's S...|           Shoes|          3|            0|          0|   N|                Y|           Too small|The size is misle...| 2015-08-31|\n",
            "|         US|   13409446|R369CEXHXHC6NQ|B00EYAFTCQ|     332158165|Naturalizer Women...|           Shoes|          5|            0|          0|   N|                Y|          Five Stars|These shoes are v...| 2015-08-31|\n",
            "|         US|    9451727|R171PPIJXFONVI|B00I0QHY32|      49243908|Forever Link Wome...|           Shoes|          5|            0|          0|   N|                Y|          Five Stars|I love these sand...| 2015-08-31|\n",
            "|         US|     193731|R2JDNM8F2P06FU|B010FZZKYA|     161497902|Versace Collectio...|           Shoes|          4|            1|          1|   N|                Y|          Four Stars|Good quality shoe...| 2015-08-31|\n",
            "|         US|   34798634|R2W977FO4M97XT|B00V8B30K2|     759958795|Twisted Girl's Ch...|           Shoes|          5|            0|          1|   N|                Y|Good shoes, comfo...|My daughter reall...| 2015-08-31|\n",
            "|         US|   37235551|R3AM24QPLI28UY|B00LAVB1TC|     910150896|Travel Smart Hand...|           Shoes|          2|            1|          2|   N|                Y|           Two Stars|         It's okay .| 2015-08-31|\n",
            "|         US|   27081399| REDVXSFYVNT5T|B003C1P8B0|     762792587|Saucony Originals...|           Shoes|          5|            0|          0|   N|                Y|    Love these shoes|Love these shoes!...| 2015-08-31|\n",
            "|         US|     120678|R14AIIK7D6ENDZ|B000W3UL7W|     123724495|Dr. Marten's Wome...|           Shoes|          5|            0|          0|   N|                Y|          Five Stars|                Good| 2015-08-31|\n",
            "|         US|   22272389|R3B1NURKMCVAL1|B00LX65PQO|     848850234|Skechers Performa...|           Shoes|          3|            2|          2|   N|                Y|         Three Stars|I like the go wal...| 2015-08-31|\n",
            "|         US|   19584241|R14Q1GZGV10IMX|B00BEE7N3I|     211637196|Hi-Tec Kid's Nepa...|           Shoes|          4|            0|          0|   N|                Y|          Four Stars|Kids love them fo...| 2015-08-31|\n",
            "|         US|   12334573| R9BHBB06QD6TM|B008NCHMBW|     138572112|Foot Sox Original...|           Shoes|          1|            2|          2|   N|                Y|Tissue paper is t...|Tissue paper is t...| 2015-08-31|\n",
            "+-----------+-----------+--------------+----------+--------------+--------------------+----------------+-----------+-------------+-----------+----+-----------------+--------------------+--------------------+-----------+\n",
            "only showing top 20 rows\n",
            "\n"
          ]
        }
      ],
      "source": [
        "from pyspark.sql.functions import to_date\n",
        "# Read in the Review dataset as a DataFrame\n",
        "df.show()"
      ]
    },
    {
      "cell_type": "code",
      "execution_count": 6,
      "metadata": {
        "id": "B0TESUDRY-90",
        "colab": {
          "base_uri": "https://localhost:8080/"
        },
        "outputId": "8437483c-7292-4320-a127-bfc25a921c87"
      },
      "outputs": [
        {
          "output_type": "stream",
          "name": "stdout",
          "text": [
            "+-----------+--------------+\n",
            "|customer_id|customer_count|\n",
            "+-----------+--------------+\n",
            "|   16121565|             5|\n",
            "|   48146680|             1|\n",
            "|   11062912|             1|\n",
            "|   51451778|             1|\n",
            "|   27920838|             1|\n",
            "|    4919528|             3|\n",
            "|   47802851|             2|\n",
            "|   42560427|             1|\n",
            "|   29467780|             1|\n",
            "|   49703087|            12|\n",
            "|   38456994|             4|\n",
            "|     557836|             1|\n",
            "|   43783459|             1|\n",
            "|   23607725|             1|\n",
            "|   45632184|             1|\n",
            "|   19979069|             2|\n",
            "|   28380959|             1|\n",
            "|   46563381|             1|\n",
            "|   21628739|             3|\n",
            "|   23042837|             2|\n",
            "+-----------+--------------+\n",
            "only showing top 20 rows\n",
            "\n"
          ]
        }
      ],
      "source": [
        "# Create the customers_table DataFrame\n",
        "\n",
        "#.agg({\"*\": \"count\"})\\\n",
        "                #.withColumnRenamed(\"count(1)\", \"customer_count\")\n",
        "customers_df = df.groupby(\"customer_id\").agg({\"*\": \"count\"}).withColumnRenamed(\"count(1)\",\"customer_count\")\n",
        "customers_df.show()"
      ]
    },
    {
      "cell_type": "code",
      "execution_count": 7,
      "metadata": {
        "id": "4FwXA6UvY-96"
      },
      "outputs": [],
      "source": [
        "# Create the products_table DataFrame and drop duplicates. \n",
        "# products_df = df.select([]).drop_duplicates()\n",
        "products_df = df.select([\"product_id\", \"product_title\"]).drop_duplicates()"
      ]
    },
    {
      "cell_type": "code",
      "source": [
        "products_df.show()"
      ],
      "metadata": {
        "colab": {
          "base_uri": "https://localhost:8080/"
        },
        "id": "yOCfhcXcZXZ-",
        "outputId": "2071f132-c268-49ae-bb60-e08438e977f5"
      },
      "execution_count": 8,
      "outputs": [
        {
          "output_type": "stream",
          "name": "stdout",
          "text": [
            "+----------+--------------------+\n",
            "|product_id|       product_title|\n",
            "+----------+--------------------+\n",
            "|B001CJL5ES|L.B. Evans Men's ...|\n",
            "|B002MCVHUQ|New Balance Insol...|\n",
            "|B00UXBFW6S|Kenox Sling Backp...|\n",
            "|B002CMM4M6|Capezio Women's 1...|\n",
            "|B00HNO32BU|Timberland PRO Me...|\n",
            "|B00C6BQQW2|New Balance Men's...|\n",
            "|B00M0NREE0|New Balance Women...|\n",
            "|B00ZC4VIKK|Donalworld Women ...|\n",
            "|B00291CGH8|Justin Boots Wome...|\n",
            "|B000P6GKOO|Nike Men's Rosher...|\n",
            "|B00IEB8BQ2|Khan New 2014 Uni...|\n",
            "|B00IBGJKW4|Powerstep Ultrast...|\n",
            "|B008KK1D5S|Clarks Women's Br...|\n",
            "|B003IHV9XE|Birkenstock Women...|\n",
            "|B00M9500FY|FitFlop Women's L...|\n",
            "|B00R59ZBXU|Keds Women's Doub...|\n",
            "|B00KQ66NBS|New Balance Men's...|\n",
            "|B00E41QYRE|Jambu Women's Xte...|\n",
            "|B0106QF79Q|Sanita Women's Pr...|\n",
            "|B0084ZF7V0|DV by Dolce Vita ...|\n",
            "+----------+--------------------+\n",
            "only showing top 20 rows\n",
            "\n"
          ]
        }
      ]
    },
    {
      "cell_type": "code",
      "execution_count": 9,
      "metadata": {
        "id": "MkqyCuNQY-9-",
        "colab": {
          "base_uri": "https://localhost:8080/"
        },
        "outputId": "da40da50-034b-4725-ae45-3c6a5fd28a78"
      },
      "outputs": [
        {
          "output_type": "stream",
          "name": "stdout",
          "text": [
            "+--------------+-----------+----------+--------------+-----------+\n",
            "|     review_id|customer_id|product_id|product_parent|review_date|\n",
            "+--------------+-----------+----------+--------------+-----------+\n",
            "|R3P2HIOQCIN5ZU|   18069663|B000XB31C0|     265024781| 2015-08-31|\n",
            "|R12VVR0WH5Q24V|   16251825|B00CFYZH5W|     259035853| 2015-08-31|\n",
            "| RNCCKB6TV5EEF|   20381037|B00S8JNN3Q|     666066660| 2015-08-31|\n",
            "|R2NZXYIVCGB13W|     108364|B00XFBPOQG|     448483263| 2015-08-31|\n",
            "|R2EQ1TG9IT3OEQ|   45449350|B00SW64Y9W|       7853171| 2015-08-31|\n",
            "|R1WXA9JSC2H1U1|   19324665|B011F9E6LI|      14311457| 2015-08-31|\n",
            "|R12ENYLFGGNWRV|   50073594|B00HAUP1OI|     264821602| 2015-08-31|\n",
            "|R2R07E5PNXEUO5|   21706057|B00L1RKOKW|     767118055| 2015-08-31|\n",
            "|R27BA52AKWMWN3|   13708216|B005WA9MSE|     813856438| 2015-08-31|\n",
            "| RLF8DOID2KD5O|   40542649|B00BEYQI5C|     661491213| 2015-08-31|\n",
            "|R369CEXHXHC6NQ|   13409446|B00EYAFTCQ|     332158165| 2015-08-31|\n",
            "|R171PPIJXFONVI|    9451727|B00I0QHY32|      49243908| 2015-08-31|\n",
            "|R2JDNM8F2P06FU|     193731|B010FZZKYA|     161497902| 2015-08-31|\n",
            "|R2W977FO4M97XT|   34798634|B00V8B30K2|     759958795| 2015-08-31|\n",
            "|R3AM24QPLI28UY|   37235551|B00LAVB1TC|     910150896| 2015-08-31|\n",
            "| REDVXSFYVNT5T|   27081399|B003C1P8B0|     762792587| 2015-08-31|\n",
            "|R14AIIK7D6ENDZ|     120678|B000W3UL7W|     123724495| 2015-08-31|\n",
            "|R3B1NURKMCVAL1|   22272389|B00LX65PQO|     848850234| 2015-08-31|\n",
            "|R14Q1GZGV10IMX|   19584241|B00BEE7N3I|     211637196| 2015-08-31|\n",
            "| R9BHBB06QD6TM|   12334573|B008NCHMBW|     138572112| 2015-08-31|\n",
            "+--------------+-----------+----------+--------------+-----------+\n",
            "only showing top 20 rows\n",
            "\n"
          ]
        }
      ],
      "source": [
        "# Create the review_id_table DataFrame. \n",
        "# Convert the 'review_date' column to a date datatype with to_date(\"review_date\", 'yyyy-MM-dd').alias(\"review_date\")\n",
        "review_id_df = df.select(\n",
        "                  [\n",
        "                    'review_id',\n",
        "                    'customer_id',\n",
        "                    'product_id',\n",
        "                    'product_parent',\n",
        "                    to_date(\"review_date\", 'yyyy-MM-dd').alias(\"review_date\")\n",
        "                  ]\n",
        "                )\n",
        "\n",
        "review_id_df.show()"
      ]
    },
    {
      "cell_type": "code",
      "execution_count": 10,
      "metadata": {
        "id": "lzMmkdKmY--D",
        "colab": {
          "base_uri": "https://localhost:8080/"
        },
        "outputId": "f539c4f3-8c66-49f6-d642-7a68a17f30cb"
      },
      "outputs": [
        {
          "output_type": "stream",
          "name": "stdout",
          "text": [
            "+--------------+-----------+-------------+-----------+----+-----------------+\n",
            "|     review_id|star_rating|helpful_votes|total_votes|vine|verified_purchase|\n",
            "+--------------+-----------+-------------+-----------+----+-----------------+\n",
            "|R3P2HIOQCIN5ZU|          1|            0|          0|   N|                Y|\n",
            "|R12VVR0WH5Q24V|          5|            0|          0|   N|                Y|\n",
            "| RNCCKB6TV5EEF|          4|            0|          0|   N|                Y|\n",
            "|R2NZXYIVCGB13W|          5|            0|          6|   N|                Y|\n",
            "|R2EQ1TG9IT3OEQ|          3|            0|          0|   N|                Y|\n",
            "|R1WXA9JSC2H1U1|          5|            1|          1|   N|                Y|\n",
            "|R12ENYLFGGNWRV|          5|            1|          1|   N|                Y|\n",
            "|R2R07E5PNXEUO5|          4|            0|          0|   N|                Y|\n",
            "|R27BA52AKWMWN3|          5|            0|          0|   N|                Y|\n",
            "| RLF8DOID2KD5O|          3|            0|          0|   N|                Y|\n",
            "|R369CEXHXHC6NQ|          5|            0|          0|   N|                Y|\n",
            "|R171PPIJXFONVI|          5|            0|          0|   N|                Y|\n",
            "|R2JDNM8F2P06FU|          4|            1|          1|   N|                Y|\n",
            "|R2W977FO4M97XT|          5|            0|          1|   N|                Y|\n",
            "|R3AM24QPLI28UY|          2|            1|          2|   N|                Y|\n",
            "| REDVXSFYVNT5T|          5|            0|          0|   N|                Y|\n",
            "|R14AIIK7D6ENDZ|          5|            0|          0|   N|                Y|\n",
            "|R3B1NURKMCVAL1|          3|            2|          2|   N|                Y|\n",
            "|R14Q1GZGV10IMX|          4|            0|          0|   N|                Y|\n",
            "| R9BHBB06QD6TM|          1|            2|          2|   N|                Y|\n",
            "+--------------+-----------+-------------+-----------+----+-----------------+\n",
            "only showing top 20 rows\n",
            "\n"
          ]
        }
      ],
      "source": [
        "# Create the vine_table. DataFrame\n",
        "vine_df = df.select(\n",
        "    [\n",
        "      'review_id',\n",
        "      'star_rating',\n",
        "      'helpful_votes',\n",
        "      'total_votes',\n",
        "      'vine',\n",
        "      'verified_purchase'\n",
        "    \n",
        "])\n",
        "\n",
        "vine_df.show()"
      ]
    },
    {
      "cell_type": "markdown",
      "metadata": {
        "id": "jITZhLkmY--J"
      },
      "source": [
        "### Connect to the AWS RDS instance and write each DataFrame to its table. "
      ]
    },
    {
      "cell_type": "code",
      "execution_count": 11,
      "metadata": {
        "id": "7jiUvs1aY--L"
      },
      "outputs": [],
      "source": [
        "# Configure settings for RDS\n",
        "mode = \"append\"\n",
        "jdbc_url=\"jdbc:postgresql://shoesdatabase.cfmbhdvwci2e.us-west-1.rds.amazonaws.com:5432/postgres\"\n",
        "config = {\"user\":\"postgres\", \n",
        "          \"password\": \"shreya2707\", \n",
        "          \"driver\":\"org.postgresql.Driver\"}"
      ]
    },
    {
      "cell_type": "code",
      "execution_count": null,
      "metadata": {
        "id": "T2zgZ-aKY--Q"
      },
      "outputs": [],
      "source": [
        "# Write review_id_df to table in RDS\n",
        "review_id_df.write.jdbc(url=jdbc_url, table='review_id_table', mode=mode, properties=config)"
      ]
    },
    {
      "cell_type": "code",
      "source": [
        "df_1 =products_df[(products_df.product_id == \"B00HZU1J7Q\")]\n",
        "df_1.show()"
      ],
      "metadata": {
        "colab": {
          "base_uri": "https://localhost:8080/"
        },
        "id": "45LJ7UuptotM",
        "outputId": "279daf4f-8061-40f1-ca63-b1304f4d357d"
      },
      "execution_count": 12,
      "outputs": [
        {
          "output_type": "stream",
          "name": "stdout",
          "text": [
            "+----------+--------------------+\n",
            "|product_id|       product_title|\n",
            "+----------+--------------------+\n",
            "|B00HZU1J7Q|adidas Performanc...|\n",
            "+----------+--------------------+\n",
            "\n"
          ]
        }
      ]
    },
    {
      "cell_type": "code",
      "execution_count": 13,
      "metadata": {
        "id": "1m3yzn-LY--U"
      },
      "outputs": [],
      "source": [
        "# Write products_df to table in RDS\n",
        "# about 3 min\n",
        "products_df.write.jdbc(url=jdbc_url, table='products_table', mode=mode, properties=config)"
      ]
    },
    {
      "cell_type": "code",
      "execution_count": 47,
      "metadata": {
        "id": "KbXri15fY--Z"
      },
      "outputs": [],
      "source": [
        "# Write customers_df to table in RDS\n",
        "# 5 min 14 s\n",
        "customers_df.write.jdbc(url=jdbc_url, table='customers_table', mode=mode, properties=config)"
      ]
    },
    {
      "cell_type": "code",
      "execution_count": 49,
      "metadata": {
        "id": "XdQknSHLY--e"
      },
      "outputs": [],
      "source": [
        "# Write vine_df to table in RDS\n",
        "# 11 minutes\n",
        "vine_df.write.jdbc(url=jdbc_url, table='vine_table', mode=mode, properties=config)"
      ]
    },
    {
      "cell_type": "code",
      "execution_count": null,
      "metadata": {
        "id": "Exuo6ebUsCqW"
      },
      "outputs": [],
      "source": []
    }
  ],
  "metadata": {
    "colab": {
      "provenance": []
    },
    "kernelspec": {
      "display_name": "Python 3 (ipykernel)",
      "language": "python",
      "name": "python3"
    },
    "language_info": {
      "codemirror_mode": {
        "name": "ipython",
        "version": 3
      },
      "file_extension": ".py",
      "mimetype": "text/x-python",
      "name": "python",
      "nbconvert_exporter": "python",
      "pygments_lexer": "ipython3",
      "version": "3.8.13"
    },
    "nteract": {
      "version": "0.12.3"
    }
  },
  "nbformat": 4,
  "nbformat_minor": 0
}